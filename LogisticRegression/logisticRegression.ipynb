{
 "cells": [
  {
   "cell_type": "code",
   "execution_count": 8,
   "metadata": {},
   "outputs": [
    {
     "ename": "LoadError",
     "evalue": "\u001b[91mBoundsError: attempt to access 100×1 Array{Any,2} at index [Base.Slice(Base.OneTo(100)), 1:2]\u001b[39m",
     "output_type": "error",
     "traceback": [
      "\u001b[91mBoundsError: attempt to access 100×1 Array{Any,2} at index [Base.Slice(Base.OneTo(100)), 1:2]\u001b[39m",
      "",
      "Stacktrace:",
      " [1] \u001b[1mthrow_boundserror\u001b[22m\u001b[22m\u001b[1m(\u001b[22m\u001b[22m::Array{Any,2}, ::Tuple{Base.Slice{Base.OneTo{Int64}},UnitRange{Int64}}\u001b[1m)\u001b[22m\u001b[22m at \u001b[1m./abstractarray.jl:434\u001b[22m\u001b[22m",
      " [2] \u001b[1mcheckbounds\u001b[22m\u001b[22m at \u001b[1m./abstractarray.jl:362\u001b[22m\u001b[22m [inlined]",
      " [3] \u001b[1mmacro expansion\u001b[22m\u001b[22m at \u001b[1m./multidimensional.jl:494\u001b[22m\u001b[22m [inlined]",
      " [4] \u001b[1m_getindex\u001b[22m\u001b[22m at \u001b[1m./multidimensional.jl:491\u001b[22m\u001b[22m [inlined]",
      " [5] \u001b[1mgetindex\u001b[22m\u001b[22m\u001b[1m(\u001b[22m\u001b[22m::Array{Any,2}, ::Colon, ::UnitRange{Int64}\u001b[1m)\u001b[22m\u001b[22m at \u001b[1m./abstractarray.jl:883\u001b[22m\u001b[22m",
      " [6] \u001b[1minclude_string\u001b[22m\u001b[22m\u001b[1m(\u001b[22m\u001b[22m::String, ::String\u001b[1m)\u001b[22m\u001b[22m at \u001b[1m./loading.jl:522\u001b[22m\u001b[22m"
     ]
    }
   ],
   "source": [
    "using Plots\n",
    "data = readdlm(\"data1.txt\")\n",
    "x = data[:,1:2]\n",
    "y = data[:,3]\n",
    "scatter(x[y.==0,1], x[y.==0,2])\n",
    "scatter!(x[y.==0,1], x[y.==0,2])"
   ]
  },
  {
   "cell_type": "code",
   "execution_count": 6,
   "metadata": {},
   "outputs": [
    {
     "name": "stdout",
     "output_type": "stream",
     "text": [
      "Any[[-0.0622373 -0.123856], [-0.10599]]\n"
     ]
    }
   ],
   "source": [
    "using Knet\n",
    "sigmoid(z) = 1./(1+exp.(-z))\n",
    "predict(w,x) = sigmoid(w[1]* .+ w[2])\n",
    "J(w,x,y) = - sum(y .* log.(predict(w,x)) + (1 .- y) .* log.(1 .- predict(w,x)))\n",
    "dJ = grad(J)\n",
    "\n",
    "m,n = size(x)\n",
    "alfa = 0.1\n",
    "w = Any[0.1*randn(1,n), 0.1*randn(1,1)]\n",
    "for t=1:500\n",
    "    #println(J(w, x', y'))\n",
    "end\n",
    "println(w)\n",
    "\n"
   ]
  },
  {
   "cell_type": "code",
   "execution_count": 7,
   "metadata": {},
   "outputs": [
    {
     "ename": "LoadError",
     "evalue": "\u001b[91mDimensionMismatch(\"A has dimensions (1,2) but B has dimensions (1,1)\")\u001b[39m",
     "output_type": "error",
     "traceback": [
      "\u001b[91mDimensionMismatch(\"A has dimensions (1,2) but B has dimensions (1,1)\")\u001b[39m",
      "",
      "Stacktrace:",
      " [1] \u001b[1mgemm_wrapper!\u001b[22m\u001b[22m\u001b[1m(\u001b[22m\u001b[22m::Array{Float64,2}, ::Char, ::Char, ::Array{Float64,2}, ::Array{Float64,2}\u001b[1m)\u001b[22m\u001b[22m at \u001b[1m./linalg/matmul.jl:345\u001b[22m\u001b[22m",
      " [2] \u001b[1m*\u001b[22m\u001b[22m\u001b[1m(\u001b[22m\u001b[22m::Array{Float64,2}, ::Array{Float64,2}\u001b[1m)\u001b[22m\u001b[22m at \u001b[1m./linalg/matmul.jl:146\u001b[22m\u001b[22m",
      " [3] \u001b[1mpredict\u001b[22m\u001b[22m\u001b[1m(\u001b[22m\u001b[22m::Array{Any,1}, ::Array{Float64,2}\u001b[1m)\u001b[22m\u001b[22m at \u001b[1m./In[6]:3\u001b[22m\u001b[22m",
      " [4] \u001b[1minclude_string\u001b[22m\u001b[22m\u001b[1m(\u001b[22m\u001b[22m::String, ::String\u001b[1m)\u001b[22m\u001b[22m at \u001b[1m./loading.jl:522\u001b[22m\u001b[22m"
     ]
    }
   ],
   "source": [
    "#Result\n",
    "yy = 0:0.1:3\n",
    "xx = (0:0.1:5)'\n",
    "m,n = length(yy), length(xx)\n",
    "yy = mat(repmat(yy, 1, n))\n",
    "xx = mat(repmat(xx, m, 1))\n",
    "coorX = [xx[:]';yy[:]']\n",
    "coorY = vec(predict(w,coorX) .> 0.5)\n",
    "scatter(coorX'[coorY,1], coorX'[coorY,2])\n",
    "scatter!(coorX'[~coorY,1], coorX'[~coorY,2])\n",
    "scatter!(x[y.==0,1], x[y.==0,2], markersize=10)\n",
    "scatter!(x[y.==1,1], x[y.==1,2], markersize=10)"
   ]
  },
  {
   "cell_type": "code",
   "execution_count": null,
   "metadata": {},
   "outputs": [],
   "source": []
  }
 ],
 "metadata": {
  "kernelspec": {
   "display_name": "Julia 0.6.2",
   "language": "julia",
   "name": "julia-0.6"
  },
  "language_info": {
   "file_extension": ".jl",
   "mimetype": "application/julia",
   "name": "julia",
   "version": "0.6.2"
  }
 },
 "nbformat": 4,
 "nbformat_minor": 2
}
